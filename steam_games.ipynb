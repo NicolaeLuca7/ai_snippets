{
 "cells": [
  {
   "cell_type": "code",
   "execution_count": 104,
   "metadata": {},
   "outputs": [],
   "source": [
    "import numpy as np\n",
    "import torch\n",
    "import torch.nn as nn\n",
    "import torch.utils.data as tdata\n",
    "import pandas as pd\n",
    "import matplotlib.pyplot as plt\n",
    "import torch.nn as nn\n",
    "import torch.optim as optim\n",
    "from tqdm import tqdm\n",
    "from sklearn.neural_network import MLPClassifier"
   ]
  },
  {
   "cell_type": "code",
   "execution_count": null,
   "metadata": {},
   "outputs": [],
   "source": [
    "frame=pd.read_csv('./data/games.csv')\n",
    "\n",
    "frame=frame[['Release date','Estimated owners','Peak CCU','Required age','Price','DLC count','Median playtime forever']]\n",
    "\n",
    "months={'Jan':1,\n",
    "'Feb':2,\n",
    "'Mar':3,\n",
    "'Apr':4,\n",
    "'May':5,\n",
    "'Jun':6,\n",
    "'Jul':7,\n",
    "'Aug':8,\n",
    "'Sep':9,\n",
    "'Oct':10,\n",
    "'Nov':11,\n",
    "'Dec':12}\n",
    "\n",
    "owners={'0 - 20000': 0,\n",
    "'50000 - 100000': 1,\n",
    "'20000 - 50000': 2,\n",
    "'200000 - 500000': 3,\n",
    "'100000 - 200000': 4,\n",
    "'2000000 - 5000000': 5,\n",
    "'0 - 0': 6,\n",
    "'500000 - 1000000': 7,\n",
    "'1000000 - 2000000': 8,\n",
    "'20000000 - 50000000': 9,\n",
    "'5000000 - 10000000': 10,\n",
    "'10000000 - 20000000': 11,\n",
    "'50000000 - 100000000': 12,\n",
    "'100000000 - 200000000': 13}\n",
    "\n",
    "MAXDATE=24300\n",
    "MAXOWNERS=len(owners)\n",
    "MAXCCU=872138\n",
    "MAXAGE=21\n",
    "MAXPRICE=999.98\n",
    "MAXDLC=frame['DLC count'].max()\n",
    "MAXPLAYF=frame['Median playtime forever'].max()\n"
   ]
  },
  {
   "cell_type": "code",
   "execution_count": null,
   "metadata": {},
   "outputs": [],
   "source": [
    "# fig = plt.figure()\n",
    "# ax = fig.add_subplot(projection='3d')\n",
    "\n",
    "\n",
    "prices={}\n",
    "id=0\n",
    "\n",
    "\n",
    "for data in frame['Price']:\n",
    "    if prices.__contains__(data)==False:\n",
    "        prices[data]=id#(torch.rand(1).item(),torch.rand(1).item(),torch.rand(1).item())\n",
    "        id+=1\n",
    "\n",
    "#ln=len(prices)\n",
    "\n",
    "i=0\n",
    "\n",
    "# for id in range(300):\n",
    "#     date=frame['Release date'][id]\n",
    "#     x1=owners[frame['Estimated owners'][id]]/MAXOWNERS#(months[date.split()[0]]+int(date.split()[len(date.split())-1])*12)/MAXDATE\n",
    "#     x2=frame['DLC count'][id]/MAXDLC#\n",
    "#     x3=frame['Required age'][id]#/MAXAGE\n",
    "#     x4=price[frame['Price'][id]]\n",
    "#     ax.scatter(x1,x2,x3,c=x4)\n",
    "\n",
    "    "
   ]
  },
  {
   "cell_type": "code",
   "execution_count": 101,
   "metadata": {},
   "outputs": [],
   "source": [
    "\n",
    "class Dataset(tdata.Dataset):\n",
    "    def __init__(self,frame):\n",
    "        self.date=[]\n",
    "        self.owners=[]\n",
    "        self.ccu=[]\n",
    "        self.age=[]\n",
    "        self.price=[]\n",
    "        self.dlc=[]\n",
    "        self.playtimef=[]\n",
    "        for data in frame:\n",
    "            date=data[0]\n",
    "            self.date.append((months[date.split()[0]]+int(date.split()[len(date.split())-1])*12)/MAXDATE)\n",
    "            self.owners.append(owners[data[1]]/MAXOWNERS)\n",
    "            self.ccu.append(data[2]/MAXCCU)\n",
    "            self.age.append(data[3]/MAXAGE)\n",
    "            #self.price.append(data[4]/MAXPRICE)\n",
    "            self.price.append(prices[data[4]])\n",
    "            self.dlc.append(data[5]/MAXDLC)\n",
    "            self.playtimef.append(data[6]/MAXPLAYF)\n",
    "    \n",
    "    def __getitem__(self,id):\n",
    "        #return torch.tensor([self.date[id], self.owners[id], self.ccu[id], self.age[id], self.dlc[id]]), torch.tensor(self.price[id])\n",
    "        return torch.tensor([self.date[id], self.owners[id],  self.age[id]]), torch.tensor(self.price[id])\n",
    "    \n",
    "    def getnormal(self,id):\n",
    "        return self.date[id]*MAXDATE, self.owners[id]*MAXOWNERS, self.ccu[id]*MAXCCU, self.age[id]*MAXAGE, self.price[id]*MAXPRICE, self.dlc[id]*MAXDLC, self.playtimef[id]*MAXPLAYF\n",
    "    \n",
    "    def __len__(self):\n",
    "        return len(self.date)\n",
    "\n",
    "data_array=frame.to_numpy()\n",
    "train_array=data_array[0:59500]\n",
    "test_array=data_array[59500:]\n",
    "\n",
    "train_data=tdata.DataLoader(Dataset(train_array),batch_size=5000)\n",
    "\n",
    "test_data=tdata.DataLoader(Dataset(test_array),batch_size=500)\n",
    "\n"
   ]
  },
  {
   "cell_type": "code",
   "execution_count": 117,
   "metadata": {},
   "outputs": [
    {
     "name": "stdout",
     "output_type": "stream",
     "text": [
      "Score:  0.2415\n"
     ]
    }
   ],
   "source": [
    "mlpmodel=MLPClassifier(random_state=1, max_iter=300,solver='adam')\n",
    "\n",
    "train_dataset=Dataset(train_array)\n",
    "\n",
    "x_train=[]\n",
    "y_train=[]\n",
    "\n",
    "for id in range(20000):\n",
    "    data=train_dataset[id]\n",
    "    x_train.append(data[0].numpy())\n",
    "    y_train.append(data[1].numpy())\n",
    "\n",
    "mlpmodel.fit(x_train,y_train)\n",
    "\n",
    "x_test=[]\n",
    "y_test=[]\n",
    "\n",
    "for id in range(10000):\n",
    "    data=test_dataset[id]\n",
    "    x_test.append(data[0].numpy())\n",
    "    y_test.append(data[1].numpy())\n",
    "\n",
    "\n",
    "print('Score: ',mlpmodel.score(x_test,y_test))\n",
    "\n"
   ]
  },
  {
   "cell_type": "code",
   "execution_count": 98,
   "metadata": {},
   "outputs": [],
   "source": [
    "test_array\n",
    "\n",
    "class NNet(nn.Module):\n",
    "    def __init__(self):\n",
    "        super(NNet,self).__init__()\n",
    "        self.linear1=nn.Linear(3,8)\n",
    "        nn.init.xavier_normal(self.linear1.weight)\n",
    "        self.linear2=nn.Linear(8,16)\n",
    "        nn.init.xavier_normal(self.linear2.weight)\n",
    "        self.linear3=nn.Linear(16,8)\n",
    "        nn.init.xavier_normal(self.linear3.weight)\n",
    "        #self.linear4=nn.Linear(16,8)\n",
    "        self.linear5=nn.Linear(8,584)\n",
    "        nn.init.xavier_normal(self.linear5.weight)\n",
    "\n",
    "    def forward(self,x):\n",
    "        x=torch.tanh(self.linear1(x))\n",
    "        x=torch.tanh(self.linear2(x))\n",
    "        x=torch.tanh(self.linear3(x))\n",
    "        #x=torch.relu(self.linear4(x))\n",
    "        x=self.linear5(x)\n",
    "        return x\n",
    "    "
   ]
  },
  {
   "cell_type": "code",
   "execution_count": 99,
   "metadata": {},
   "outputs": [
    {
     "name": "stderr",
     "output_type": "stream",
     "text": [
      "C:\\Users\\User\\AppData\\Local\\Temp\\ipykernel_11356\\2813976395.py:7: UserWarning: nn.init.xavier_normal is now deprecated in favor of nn.init.xavier_normal_.\n",
      "  nn.init.xavier_normal(self.linear1.weight)\n",
      "C:\\Users\\User\\AppData\\Local\\Temp\\ipykernel_11356\\2813976395.py:9: UserWarning: nn.init.xavier_normal is now deprecated in favor of nn.init.xavier_normal_.\n",
      "  nn.init.xavier_normal(self.linear2.weight)\n",
      "C:\\Users\\User\\AppData\\Local\\Temp\\ipykernel_11356\\2813976395.py:11: UserWarning: nn.init.xavier_normal is now deprecated in favor of nn.init.xavier_normal_.\n",
      "  nn.init.xavier_normal(self.linear3.weight)\n",
      "C:\\Users\\User\\AppData\\Local\\Temp\\ipykernel_11356\\2813976395.py:14: UserWarning: nn.init.xavier_normal is now deprecated in favor of nn.init.xavier_normal_.\n",
      "  nn.init.xavier_normal(self.linear5.weight)\n"
     ]
    }
   ],
   "source": [
    "model=NNet()\n",
    "\n",
    "\n",
    "\n",
    "criterion= nn.CrossEntropyLoss()\n",
    "optimizer=optim.Adam(model.parameters(),lr=0.01)"
   ]
  },
  {
   "cell_type": "code",
   "execution_count": 118,
   "metadata": {},
   "outputs": [
    {
     "name": "stderr",
     "output_type": "stream",
     "text": [
      "  2%|▏         | 1/50 [00:15<12:33, 15.38s/it]"
     ]
    },
    {
     "name": "stdout",
     "output_type": "stream",
     "text": [
      "Accuracy:  0.2671171347107761\n"
     ]
    },
    {
     "name": "stderr",
     "output_type": "stream",
     "text": [
      "  4%|▍         | 2/50 [00:18<06:30,  8.14s/it]"
     ]
    },
    {
     "name": "stdout",
     "output_type": "stream",
     "text": [
      "Accuracy:  0.2671171347107761\n"
     ]
    },
    {
     "name": "stderr",
     "output_type": "stream",
     "text": [
      "  6%|▌         | 3/50 [00:21<04:35,  5.87s/it]"
     ]
    },
    {
     "name": "stdout",
     "output_type": "stream",
     "text": [
      "Accuracy:  0.2671171347107761\n"
     ]
    },
    {
     "name": "stderr",
     "output_type": "stream",
     "text": [
      "  8%|▊         | 4/50 [00:25<03:48,  4.96s/it]"
     ]
    },
    {
     "name": "stdout",
     "output_type": "stream",
     "text": [
      "Accuracy:  0.2671171347107761\n"
     ]
    },
    {
     "name": "stderr",
     "output_type": "stream",
     "text": [
      " 10%|█         | 5/50 [00:28<03:14,  4.32s/it]"
     ]
    },
    {
     "name": "stdout",
     "output_type": "stream",
     "text": [
      "Accuracy:  0.2671171347107761\n"
     ]
    },
    {
     "name": "stderr",
     "output_type": "stream",
     "text": [
      " 12%|█▏        | 6/50 [00:31<02:54,  3.96s/it]"
     ]
    },
    {
     "name": "stdout",
     "output_type": "stream",
     "text": [
      "Accuracy:  0.2671171347107761\n"
     ]
    },
    {
     "name": "stderr",
     "output_type": "stream",
     "text": [
      " 14%|█▍        | 7/50 [00:35<02:46,  3.87s/it]"
     ]
    },
    {
     "name": "stdout",
     "output_type": "stream",
     "text": [
      "Accuracy:  0.2671171347107761\n"
     ]
    },
    {
     "name": "stderr",
     "output_type": "stream",
     "text": [
      " 16%|█▌        | 8/50 [00:39<02:47,  3.99s/it]"
     ]
    },
    {
     "name": "stdout",
     "output_type": "stream",
     "text": [
      "Accuracy:  0.2671171347107761\n"
     ]
    },
    {
     "name": "stderr",
     "output_type": "stream",
     "text": [
      " 18%|█▊        | 9/50 [00:42<02:33,  3.75s/it]"
     ]
    },
    {
     "name": "stdout",
     "output_type": "stream",
     "text": [
      "Accuracy:  0.2671171347107761\n"
     ]
    },
    {
     "name": "stderr",
     "output_type": "stream",
     "text": [
      " 20%|██        | 10/50 [00:45<02:19,  3.50s/it]"
     ]
    },
    {
     "name": "stdout",
     "output_type": "stream",
     "text": [
      "Accuracy:  0.2671171347107761\n"
     ]
    },
    {
     "name": "stderr",
     "output_type": "stream",
     "text": [
      " 22%|██▏       | 11/50 [00:48<02:11,  3.37s/it]"
     ]
    },
    {
     "name": "stdout",
     "output_type": "stream",
     "text": [
      "Accuracy:  0.26707807678787643\n"
     ]
    },
    {
     "name": "stderr",
     "output_type": "stream",
     "text": [
      " 24%|██▍       | 12/50 [00:51<02:02,  3.23s/it]"
     ]
    },
    {
     "name": "stdout",
     "output_type": "stream",
     "text": [
      "Accuracy:  0.2671952505565754\n"
     ]
    },
    {
     "name": "stderr",
     "output_type": "stream",
     "text": [
      " 26%|██▌       | 13/50 [00:54<01:58,  3.20s/it]"
     ]
    },
    {
     "name": "stdout",
     "output_type": "stream",
     "text": [
      "Accuracy:  0.2671952505565754\n"
     ]
    },
    {
     "name": "stderr",
     "output_type": "stream",
     "text": [
      " 28%|██▊       | 14/50 [00:58<01:56,  3.23s/it]"
     ]
    },
    {
     "name": "stdout",
     "output_type": "stream",
     "text": [
      "Accuracy:  0.2671952505565754\n"
     ]
    },
    {
     "name": "stderr",
     "output_type": "stream",
     "text": [
      " 30%|███       | 15/50 [01:01<01:55,  3.30s/it]"
     ]
    },
    {
     "name": "stdout",
     "output_type": "stream",
     "text": [
      "Accuracy:  0.2671952505565754\n"
     ]
    },
    {
     "name": "stderr",
     "output_type": "stream",
     "text": [
      " 32%|███▏      | 16/50 [01:04<01:52,  3.30s/it]"
     ]
    },
    {
     "name": "stdout",
     "output_type": "stream",
     "text": [
      "Accuracy:  0.2671952505565754\n"
     ]
    },
    {
     "name": "stderr",
     "output_type": "stream",
     "text": [
      " 34%|███▍      | 17/50 [01:08<01:49,  3.33s/it]"
     ]
    },
    {
     "name": "stdout",
     "output_type": "stream",
     "text": [
      "Accuracy:  0.2671952505565754\n"
     ]
    },
    {
     "name": "stderr",
     "output_type": "stream",
     "text": [
      " 36%|███▌      | 18/50 [01:11<01:46,  3.32s/it]"
     ]
    },
    {
     "name": "stdout",
     "output_type": "stream",
     "text": [
      "Accuracy:  0.2671952505565754\n"
     ]
    },
    {
     "name": "stderr",
     "output_type": "stream",
     "text": [
      " 38%|███▊      | 19/50 [01:15<01:50,  3.57s/it]"
     ]
    },
    {
     "name": "stdout",
     "output_type": "stream",
     "text": [
      "Accuracy:  0.2671952505565754\n"
     ]
    },
    {
     "name": "stderr",
     "output_type": "stream",
     "text": [
      " 40%|████      | 20/50 [01:19<01:47,  3.57s/it]"
     ]
    },
    {
     "name": "stdout",
     "output_type": "stream",
     "text": [
      "Accuracy:  0.2671952505565754\n"
     ]
    },
    {
     "name": "stderr",
     "output_type": "stream",
     "text": [
      " 42%|████▏     | 21/50 [01:22<01:41,  3.49s/it]"
     ]
    },
    {
     "name": "stdout",
     "output_type": "stream",
     "text": [
      "Accuracy:  0.2671952505565754\n"
     ]
    },
    {
     "name": "stderr",
     "output_type": "stream",
     "text": [
      " 44%|████▍     | 22/50 [01:26<01:38,  3.51s/it]"
     ]
    },
    {
     "name": "stdout",
     "output_type": "stream",
     "text": [
      "Accuracy:  0.2671952505565754\n"
     ]
    },
    {
     "name": "stderr",
     "output_type": "stream",
     "text": [
      " 46%|████▌     | 23/50 [01:29<01:34,  3.49s/it]"
     ]
    },
    {
     "name": "stdout",
     "output_type": "stream",
     "text": [
      "Accuracy:  0.2671952505565754\n"
     ]
    },
    {
     "name": "stderr",
     "output_type": "stream",
     "text": [
      " 48%|████▊     | 24/50 [01:33<01:35,  3.67s/it]"
     ]
    },
    {
     "name": "stdout",
     "output_type": "stream",
     "text": [
      "Accuracy:  0.2671952505565754\n"
     ]
    },
    {
     "name": "stderr",
     "output_type": "stream",
     "text": [
      " 50%|█████     | 25/50 [01:36<01:28,  3.53s/it]"
     ]
    },
    {
     "name": "stdout",
     "output_type": "stream",
     "text": [
      "Accuracy:  0.2671952505565754\n"
     ]
    },
    {
     "name": "stderr",
     "output_type": "stream",
     "text": [
      " 52%|█████▏    | 26/50 [01:40<01:22,  3.44s/it]"
     ]
    },
    {
     "name": "stdout",
     "output_type": "stream",
     "text": [
      "Accuracy:  0.2671952505565754\n"
     ]
    },
    {
     "name": "stderr",
     "output_type": "stream",
     "text": [
      " 54%|█████▍    | 27/50 [01:43<01:18,  3.42s/it]"
     ]
    },
    {
     "name": "stdout",
     "output_type": "stream",
     "text": [
      "Accuracy:  0.2671952505565754\n"
     ]
    },
    {
     "name": "stderr",
     "output_type": "stream",
     "text": [
      " 56%|█████▌    | 28/50 [01:46<01:14,  3.40s/it]"
     ]
    },
    {
     "name": "stdout",
     "output_type": "stream",
     "text": [
      "Accuracy:  0.2671952505565754\n"
     ]
    },
    {
     "name": "stderr",
     "output_type": "stream",
     "text": [
      " 58%|█████▊    | 29/50 [01:51<01:16,  3.66s/it]"
     ]
    },
    {
     "name": "stdout",
     "output_type": "stream",
     "text": [
      "Accuracy:  0.2671952505565754\n"
     ]
    },
    {
     "name": "stderr",
     "output_type": "stream",
     "text": [
      " 60%|██████    | 30/50 [01:54<01:11,  3.59s/it]"
     ]
    },
    {
     "name": "stdout",
     "output_type": "stream",
     "text": [
      "Accuracy:  0.2671952505565754\n"
     ]
    },
    {
     "name": "stderr",
     "output_type": "stream",
     "text": [
      " 62%|██████▏   | 31/50 [01:57<01:06,  3.49s/it]"
     ]
    },
    {
     "name": "stdout",
     "output_type": "stream",
     "text": [
      "Accuracy:  0.2671952505565754\n"
     ]
    },
    {
     "name": "stderr",
     "output_type": "stream",
     "text": [
      " 64%|██████▍   | 32/50 [02:01<01:03,  3.55s/it]"
     ]
    },
    {
     "name": "stdout",
     "output_type": "stream",
     "text": [
      "Accuracy:  0.2671952505565754\n"
     ]
    },
    {
     "name": "stderr",
     "output_type": "stream",
     "text": [
      " 66%|██████▌   | 33/50 [02:04<00:59,  3.51s/it]"
     ]
    },
    {
     "name": "stdout",
     "output_type": "stream",
     "text": [
      "Accuracy:  0.2671952505565754\n"
     ]
    },
    {
     "name": "stderr",
     "output_type": "stream",
     "text": [
      " 68%|██████▊   | 34/50 [02:07<00:53,  3.36s/it]"
     ]
    },
    {
     "name": "stdout",
     "output_type": "stream",
     "text": [
      "Accuracy:  0.2671952505565754\n"
     ]
    },
    {
     "name": "stderr",
     "output_type": "stream",
     "text": [
      " 70%|███████   | 35/50 [02:11<00:49,  3.31s/it]"
     ]
    },
    {
     "name": "stdout",
     "output_type": "stream",
     "text": [
      "Accuracy:  0.2671952505565754\n"
     ]
    },
    {
     "name": "stderr",
     "output_type": "stream",
     "text": [
      " 72%|███████▏  | 36/50 [02:14<00:47,  3.36s/it]"
     ]
    },
    {
     "name": "stdout",
     "output_type": "stream",
     "text": [
      "Accuracy:  0.2671952505565754\n"
     ]
    },
    {
     "name": "stderr",
     "output_type": "stream",
     "text": [
      " 74%|███████▍  | 37/50 [02:17<00:42,  3.28s/it]"
     ]
    },
    {
     "name": "stdout",
     "output_type": "stream",
     "text": [
      "Accuracy:  0.2671952505565754\n"
     ]
    },
    {
     "name": "stderr",
     "output_type": "stream",
     "text": [
      " 76%|███████▌  | 38/50 [02:20<00:38,  3.24s/it]"
     ]
    },
    {
     "name": "stdout",
     "output_type": "stream",
     "text": [
      "Accuracy:  0.2671952505565754\n"
     ]
    },
    {
     "name": "stderr",
     "output_type": "stream",
     "text": [
      " 78%|███████▊  | 39/50 [02:24<00:36,  3.28s/it]"
     ]
    },
    {
     "name": "stdout",
     "output_type": "stream",
     "text": [
      "Accuracy:  0.2671952505565754\n"
     ]
    },
    {
     "name": "stderr",
     "output_type": "stream",
     "text": [
      " 80%|████████  | 40/50 [02:27<00:32,  3.26s/it]"
     ]
    },
    {
     "name": "stdout",
     "output_type": "stream",
     "text": [
      "Accuracy:  0.2671952505565754\n"
     ]
    },
    {
     "name": "stderr",
     "output_type": "stream",
     "text": [
      " 82%|████████▏ | 41/50 [02:30<00:28,  3.19s/it]"
     ]
    },
    {
     "name": "stdout",
     "output_type": "stream",
     "text": [
      "Accuracy:  0.2671952505565754\n"
     ]
    },
    {
     "name": "stderr",
     "output_type": "stream",
     "text": [
      " 84%|████████▍ | 42/50 [02:33<00:25,  3.15s/it]"
     ]
    },
    {
     "name": "stdout",
     "output_type": "stream",
     "text": [
      "Accuracy:  0.2671952505565754\n"
     ]
    },
    {
     "name": "stderr",
     "output_type": "stream",
     "text": [
      " 86%|████████▌ | 43/50 [02:36<00:22,  3.21s/it]"
     ]
    },
    {
     "name": "stdout",
     "output_type": "stream",
     "text": [
      "Accuracy:  0.2671952505565754\n"
     ]
    },
    {
     "name": "stderr",
     "output_type": "stream",
     "text": [
      " 88%|████████▊ | 44/50 [02:39<00:19,  3.19s/it]"
     ]
    },
    {
     "name": "stdout",
     "output_type": "stream",
     "text": [
      "Accuracy:  0.2671952505565754\n"
     ]
    },
    {
     "name": "stderr",
     "output_type": "stream",
     "text": [
      " 90%|█████████ | 45/50 [02:43<00:16,  3.29s/it]"
     ]
    },
    {
     "name": "stdout",
     "output_type": "stream",
     "text": [
      "Accuracy:  0.2672733664023747\n"
     ]
    },
    {
     "name": "stderr",
     "output_type": "stream",
     "text": [
      " 92%|█████████▏| 46/50 [02:47<00:13,  3.40s/it]"
     ]
    },
    {
     "name": "stdout",
     "output_type": "stream",
     "text": [
      "Accuracy:  0.2672733664023747\n"
     ]
    },
    {
     "name": "stderr",
     "output_type": "stream",
     "text": [
      " 94%|█████████▍| 47/50 [02:50<00:10,  3.34s/it]"
     ]
    },
    {
     "name": "stdout",
     "output_type": "stream",
     "text": [
      "Accuracy:  0.2672733664023747\n"
     ]
    },
    {
     "name": "stderr",
     "output_type": "stream",
     "text": [
      " 96%|█████████▌| 48/50 [02:53<00:06,  3.29s/it]"
     ]
    },
    {
     "name": "stdout",
     "output_type": "stream",
     "text": [
      "Accuracy:  0.2672733664023747\n"
     ]
    },
    {
     "name": "stderr",
     "output_type": "stream",
     "text": [
      " 98%|█████████▊| 49/50 [02:56<00:03,  3.28s/it]"
     ]
    },
    {
     "name": "stdout",
     "output_type": "stream",
     "text": [
      "Accuracy:  0.2672733664023747\n"
     ]
    },
    {
     "name": "stderr",
     "output_type": "stream",
     "text": [
      "100%|██████████| 50/50 [03:00<00:00,  3.60s/it]"
     ]
    },
    {
     "name": "stdout",
     "output_type": "stream",
     "text": [
      "Accuracy:  0.2672733664023747\n"
     ]
    },
    {
     "name": "stderr",
     "output_type": "stream",
     "text": [
      "\n"
     ]
    },
    {
     "data": {
      "image/png": "[encoded data removed]",
      "text/plain": [
       "<Figure size 640x480 with 1 Axes>"
      ]
     },
     "metadata": {},
     "output_type": "display_data"
    },
    {
     "data": {
      "image/png": "[encoded data removed]",
      "text/plain": [
       "<Figure size 640x480 with 1 Axes>"
      ]
     },
     "metadata": {},
     "output_type": "display_data"
    }
   ],
   "source": [
    "EPOCHS=[]\n",
    "LOSS=[]\n",
    "\n",
    "ACCURACY=[]\n",
    "\n",
    "tloss=100\n",
    "\n",
    "\n",
    "#epoch=1\n",
    "for epoch in tqdm(range(50)):\n",
    "#while tloss>5:\n",
    "    model.train()\n",
    "    tloss=0\n",
    "    for x,y in train_data:\n",
    "        optimizer.zero_grad()\n",
    "        py=model(x)\n",
    "        loss=criterion(py,y)\n",
    "        loss.backward()\n",
    "        optimizer.step()\n",
    "        \n",
    "        # for val1, val2 in zip(py,y):\n",
    "        #     if int(val1.item()*MAXPRICE) == int(val2.item()*MAXPRICE):\n",
    "        #         accuracy+=1\n",
    "\n",
    "        tloss+=loss.item()\n",
    "    \n",
    "    accuracy=0\n",
    "    model.eval()\n",
    "    for x,y in test_data:\n",
    "        py=model(x)\n",
    "        id=0\n",
    "        for val in py:\n",
    "            if torch.argmax(val)==y[id]:\n",
    "                accuracy+=1\n",
    "            id+=1\n",
    "\n",
    "    accuracy/=len(test_array)\n",
    "    print(\"Accuracy: \",accuracy)\n",
    "    #print('Loss: '+str(tloss))\n",
    "    #print('Epoch: '+str(epoch))\n",
    "    ACCURACY.append(accuracy)\n",
    "    EPOCHS.append(epoch)\n",
    "    LOSS.append(tloss)\n",
    "    epoch+=1\n",
    "    \n",
    "\n",
    "\n",
    "\n",
    "\n",
    "plt.plot(EPOCHS,LOSS)\n",
    "plt.show()\n",
    "plt.plot(EPOCHS,ACCURACY)\n",
    "plt.show()\n",
    "\n",
    "\n"
   ]
  }
 ],
 "metadata": {
  "kernelspec": {
   "display_name": ".venv",
   "language": "python",
   "name": "python3"
  },
  "language_info": {
   "codemirror_mode": {
    "name": "ipython",
    "version": 3
   },
   "file_extension": ".py",
   "mimetype": "text/x-python",
   "name": "python",
   "nbconvert_exporter": "python",
   "pygments_lexer": "ipython3",
   "version": "3.11.4"
  }
 },
 "nbformat": 4,
 "nbformat_minor": 2
}
