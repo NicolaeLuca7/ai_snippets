{
 "cells": [
  {
   "cell_type": "code",
   "execution_count": 1,
   "metadata": {},
   "outputs": [],
   "source": [
    "import numpy as np\n",
    "import torch\n",
    "import torch.nn as nn\n",
    "import torch.utils.data as tdata\n",
    "import pandas as pd\n",
    "import matplotlib.pyplot as plt\n",
    "import torch.nn as nn\n",
    "import torch.optim as optim\n",
    "from tqdm import tqdm"
   ]
  },
  {
   "cell_type": "code",
   "execution_count": 3,
   "metadata": {},
   "outputs": [],
   "source": [
    "train_frame=pd.read_csv('./data/titanic/train.csv')\n",
    "test_frame=pd.read_csv('./data/titanic/test.csv')\n",
    "\n",
    "\n",
    "train_frame=train_frame[['Survived','Pclass','Sex','Age']]\n",
    "test_frame=test_frame[['Pclass','Sex','Age']]\n",
    "\n",
    "MAXPCLASS=3\n",
    "MAXXAGE=100"
   ]
  },
  {
   "cell_type": "code",
   "execution_count": 30,
   "metadata": {},
   "outputs": [],
   "source": [
    "class Dataset(tdata.Dataset):\n",
    "    def __init__(self,frame):\n",
    "        self.survived=[]\n",
    "        self.pclass=[]\n",
    "        self.sex=[]\n",
    "        self.age=[]\n",
    "        for data in frame:\n",
    "            self.survived.append(data[0])\n",
    "            self.pclass.append(data[1]/MAXPCLASS)\n",
    "            if data[2] == 'male':\n",
    "                self.sex.append(1)\n",
    "            else:\n",
    "                self.sex.append(0)\n",
    "            if data[3]!=data[3]:\n",
    "                self.age.append(-1)\n",
    "            else:\n",
    "                self.age.append(data[3]/MAXXAGE)\n",
    "            \n",
    "    \n",
    "    def __getitem__(self,id):\n",
    "        return torch.tensor([self.pclass[id], self.sex[id], self.age[id]],dtype=torch.float32) , torch.tensor(self.survived[id])\n",
    "        \n",
    "    def __len__(self):\n",
    "        return len(self.pclass)\n",
    "    "
   ]
  },
  {
   "cell_type": "code",
   "execution_count": 31,
   "metadata": {},
   "outputs": [],
   "source": [
    "data_array=train_frame.to_numpy()\n",
    "\n",
    "train_array=data_array[:891-150]\n",
    "valid_array=data_array[891-150:]\n",
    "\n",
    "train_data=tdata.DataLoader(Dataset(train_array),batch_size=20)\n",
    "\n",
    "valid_data=tdata.DataLoader(Dataset(valid_array),batch_size=50)\n",
    "\n"
   ]
  },
  {
   "cell_type": "code",
   "execution_count": 6,
   "metadata": {},
   "outputs": [],
   "source": [
    "class NNet(nn.Module):\n",
    "    def __init__(self):\n",
    "        super(NNet,self).__init__()\n",
    "        self.linear1=nn.Linear(3,8)\n",
    "        #nn.init.xavier_normal_(self.linear1.weight)\n",
    "        self.linear2=nn.Linear(8,2)\n",
    "\n",
    "    def forward(self,x):\n",
    "        x=torch.tanh(self.linear1(x))\n",
    "        x=self.linear2(x)\n",
    "        return x\n",
    "    "
   ]
  },
  {
   "cell_type": "code",
   "execution_count": 38,
   "metadata": {},
   "outputs": [],
   "source": [
    "model=NNet()\n",
    "\n",
    "criterion= nn.CrossEntropyLoss()\n",
    "optimizer=optim.Adam(model.parameters(),lr=0.01)\n",
    "\n"
   ]
  },
  {
   "cell_type": "code",
   "execution_count": 37,
   "metadata": {},
   "outputs": [
    {
     "name": "stdout",
     "output_type": "stream",
     "text": [
      "OrderedDict([('weight', tensor([[nan, nan, nan],\n",
      "        [nan, nan, nan],\n",
      "        [nan, nan, nan],\n",
      "        [nan, nan, nan],\n",
      "        [nan, nan, nan],\n",
      "        [nan, nan, nan],\n",
      "        [nan, nan, nan],\n",
      "        [nan, nan, nan]])), ('bias', tensor([nan, nan, nan, nan, nan, nan, nan, nan]))])\n"
     ]
    }
   ],
   "source": [
    "print(model.linear1.state_dict())"
   ]
  },
  {
   "cell_type": "code",
   "execution_count": 39,
   "metadata": {},
   "outputs": [
    {
     "name": "stderr",
     "output_type": "stream",
     "text": [
      "  2%|▏         | 1/50 [00:15<13:02, 15.98s/it]"
     ]
    },
    {
     "name": "stdout",
     "output_type": "stream",
     "text": [
      "Accuracy:  0.8133333333333334\n"
     ]
    },
    {
     "name": "stderr",
     "output_type": "stream",
     "text": [
      "  4%|▍         | 2/50 [00:23<08:59, 11.24s/it]"
     ]
    },
    {
     "name": "stdout",
     "output_type": "stream",
     "text": [
      "Accuracy:  0.8\n"
     ]
    },
    {
     "name": "stderr",
     "output_type": "stream",
     "text": [
      "  6%|▌         | 3/50 [00:26<05:32,  7.08s/it]"
     ]
    },
    {
     "name": "stdout",
     "output_type": "stream",
     "text": [
      "Accuracy:  0.8\n"
     ]
    },
    {
     "name": "stderr",
     "output_type": "stream",
     "text": [
      "  8%|▊         | 4/50 [00:26<03:28,  4.53s/it]"
     ]
    },
    {
     "name": "stdout",
     "output_type": "stream",
     "text": [
      "Accuracy:  0.8\n"
     ]
    },
    {
     "name": "stderr",
     "output_type": "stream",
     "text": [
      " 10%|█         | 5/50 [00:27<02:22,  3.17s/it]"
     ]
    },
    {
     "name": "stdout",
     "output_type": "stream",
     "text": [
      "Accuracy:  0.8\n"
     ]
    },
    {
     "name": "stderr",
     "output_type": "stream",
     "text": [
      " 16%|█▌        | 8/50 [00:30<01:09,  1.66s/it]"
     ]
    },
    {
     "name": "stdout",
     "output_type": "stream",
     "text": [
      "Accuracy:  0.7866666666666666\n",
      "Accuracy:  0.7866666666666666\n",
      "Accuracy:  0.7866666666666666\n"
     ]
    },
    {
     "name": "stderr",
     "output_type": "stream",
     "text": [
      " 20%|██        | 10/50 [00:30<00:40,  1.01s/it]"
     ]
    },
    {
     "name": "stdout",
     "output_type": "stream",
     "text": [
      "Accuracy:  0.7866666666666666\n",
      "Accuracy:  0.7866666666666666\n",
      "Accuracy:  0.7866666666666666\n"
     ]
    },
    {
     "name": "stderr",
     "output_type": "stream",
     "text": [
      " 28%|██▊       | 14/50 [00:31<00:16,  2.17it/s]"
     ]
    },
    {
     "name": "stdout",
     "output_type": "stream",
     "text": [
      "Accuracy:  0.7866666666666666\n",
      "Accuracy:  0.7866666666666666\n",
      "Accuracy:  0.7866666666666666\n"
     ]
    },
    {
     "name": "stderr",
     "output_type": "stream",
     "text": [
      " 32%|███▏      | 16/50 [00:31<00:11,  3.01it/s]"
     ]
    },
    {
     "name": "stdout",
     "output_type": "stream",
     "text": [
      "Accuracy:  0.7866666666666666\n",
      "Accuracy:  0.7866666666666666\n",
      "Accuracy:  0.7866666666666666\n"
     ]
    },
    {
     "name": "stderr",
     "output_type": "stream",
     "text": [
      " 40%|████      | 20/50 [00:31<00:05,  5.02it/s]"
     ]
    },
    {
     "name": "stdout",
     "output_type": "stream",
     "text": [
      "Accuracy:  0.7866666666666666\n",
      "Accuracy:  0.7866666666666666\n",
      "Accuracy:  0.7866666666666666\n"
     ]
    },
    {
     "name": "stderr",
     "output_type": "stream",
     "text": [
      " 44%|████▍     | 22/50 [00:31<00:04,  6.07it/s]"
     ]
    },
    {
     "name": "stdout",
     "output_type": "stream",
     "text": [
      "Accuracy:  0.7866666666666666\n",
      "Accuracy:  0.7866666666666666\n",
      "Accuracy:  0.7866666666666666\n"
     ]
    },
    {
     "name": "stderr",
     "output_type": "stream",
     "text": [
      " 52%|█████▏    | 26/50 [00:32<00:03,  7.74it/s]"
     ]
    },
    {
     "name": "stdout",
     "output_type": "stream",
     "text": [
      "Accuracy:  0.7866666666666666\n",
      "Accuracy:  0.7866666666666666\n",
      "Accuracy:  0.7866666666666666\n"
     ]
    },
    {
     "name": "stderr",
     "output_type": "stream",
     "text": [
      " 56%|█████▌    | 28/50 [00:32<00:02,  8.72it/s]"
     ]
    },
    {
     "name": "stdout",
     "output_type": "stream",
     "text": [
      "Accuracy:  0.7866666666666666\n",
      "Accuracy:  0.7866666666666666\n",
      "Accuracy:  0.7866666666666666\n"
     ]
    },
    {
     "name": "stderr",
     "output_type": "stream",
     "text": [
      " 64%|██████▍   | 32/50 [00:32<00:01,  9.68it/s]"
     ]
    },
    {
     "name": "stdout",
     "output_type": "stream",
     "text": [
      "Accuracy:  0.7866666666666666\n",
      "Accuracy:  0.7866666666666666\n",
      "Accuracy:  0.7866666666666666\n"
     ]
    },
    {
     "name": "stderr",
     "output_type": "stream",
     "text": [
      " 68%|██████▊   | 34/50 [00:33<00:01, 10.05it/s]"
     ]
    },
    {
     "name": "stdout",
     "output_type": "stream",
     "text": [
      "Accuracy:  0.7866666666666666\n",
      "Accuracy:  0.7866666666666666\n",
      "Accuracy:  0.7933333333333333\n"
     ]
    },
    {
     "name": "stderr",
     "output_type": "stream",
     "text": [
      " 76%|███████▌  | 38/50 [00:33<00:01, 10.41it/s]"
     ]
    },
    {
     "name": "stdout",
     "output_type": "stream",
     "text": [
      "Accuracy:  0.7933333333333333\n",
      "Accuracy:  0.7933333333333333\n",
      "Accuracy:  0.7933333333333333\n"
     ]
    },
    {
     "name": "stderr",
     "output_type": "stream",
     "text": [
      " 80%|████████  | 40/50 [00:33<00:00, 10.64it/s]"
     ]
    },
    {
     "name": "stdout",
     "output_type": "stream",
     "text": [
      "Accuracy:  0.7866666666666666\n",
      "Accuracy:  0.8\n",
      "Accuracy:  0.7933333333333333\n"
     ]
    },
    {
     "name": "stderr",
     "output_type": "stream",
     "text": [
      " 88%|████████▊ | 44/50 [00:33<00:00, 11.41it/s]"
     ]
    },
    {
     "name": "stdout",
     "output_type": "stream",
     "text": [
      "Accuracy:  0.7933333333333333\n",
      "Accuracy:  0.7866666666666666\n",
      "Accuracy:  0.8\n"
     ]
    },
    {
     "name": "stderr",
     "output_type": "stream",
     "text": [
      " 92%|█████████▏| 46/50 [00:34<00:00, 11.26it/s]"
     ]
    },
    {
     "name": "stdout",
     "output_type": "stream",
     "text": [
      "Accuracy:  0.8\n",
      "Accuracy:  0.7933333333333333\n",
      "Accuracy:  0.7933333333333333\n"
     ]
    },
    {
     "name": "stderr",
     "output_type": "stream",
     "text": [
      "100%|██████████| 50/50 [00:34<00:00,  1.45it/s]"
     ]
    },
    {
     "name": "stdout",
     "output_type": "stream",
     "text": [
      "Accuracy:  0.78\n",
      "Accuracy:  0.7733333333333333\n",
      "Accuracy:  0.7733333333333333\n"
     ]
    },
    {
     "name": "stderr",
     "output_type": "stream",
     "text": [
      "\n"
     ]
    },
    {
     "data": {
      "image/png": "[encoded data removed]",
      "text/plain": [
       "<Figure size 640x480 with 1 Axes>"
      ]
     },
     "metadata": {},
     "output_type": "display_data"
    },
    {
     "data": {
      "image/png": "[encoded data removed]",
      "text/plain": [
       "<Figure size 640x480 with 1 Axes>"
      ]
     },
     "metadata": {},
     "output_type": "display_data"
    }
   ],
   "source": [
    "EPOCHS=[]\n",
    "LOSS=[]\n",
    "\n",
    "ACCURACY=[]\n",
    "\n",
    "tloss=100\n",
    "\n",
    "\n",
    "#epoch=1\n",
    "for epoch in tqdm(range(50)):\n",
    "#while tloss>5:\n",
    "    model.train()\n",
    "    tloss=0\n",
    "    for x,y in train_data:\n",
    "        optimizer.zero_grad()\n",
    "        py=model(x)\n",
    "        loss=criterion(py,y)\n",
    "        loss.backward()\n",
    "        optimizer.step()\n",
    "\n",
    "        tloss+=loss.item()\n",
    "    \n",
    "    accuracy=0\n",
    "    model.eval()\n",
    "    for x,y in valid_data:\n",
    "        py=torch.tanh(model.linear1(x))\n",
    "        py=model(x)\n",
    "        id=0\n",
    "        for val in py:\n",
    "            if torch.argmax(val)==y[id]:\n",
    "                accuracy+=1\n",
    "            id+=1\n",
    "\n",
    "    accuracy/=len(valid_array)\n",
    "    print(\"Accuracy: \",accuracy)\n",
    "    #print('Loss: '+str(tloss))\n",
    "    #print('Epoch: '+str(epoch))\n",
    "    ACCURACY.append(accuracy)\n",
    "    EPOCHS.append(epoch)\n",
    "    LOSS.append(tloss)\n",
    "    epoch+=1\n",
    "    \n",
    "\n",
    "\n",
    "plt.plot(EPOCHS,LOSS)\n",
    "plt.show()\n",
    "plt.plot(EPOCHS,ACCURACY)\n",
    "plt.show()\n"
   ]
  }
 ],
 "metadata": {
  "kernelspec": {
   "display_name": ".venv",
   "language": "python",
   "name": "python3"
  },
  "language_info": {
   "codemirror_mode": {
    "name": "ipython",
    "version": 3
   },
   "file_extension": ".py",
   "mimetype": "text/x-python",
   "name": "python",
   "nbconvert_exporter": "python",
   "pygments_lexer": "ipython3",
   "version": "3.11.4"
  }
 },
 "nbformat": 4,
 "nbformat_minor": 2
}
